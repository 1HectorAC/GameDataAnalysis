{
 "cells": [
  {
   "cell_type": "markdown",
   "metadata": {},
   "source": [
    "## Play Analysis\n",
    "---\n",
    "An analysis of games played based on the selected year."
   ]
  },
  {
   "cell_type": "code",
   "execution_count": null,
   "metadata": {},
   "outputs": [],
   "source": [
    "import numpy as np\n",
    "import pandas as pd\n",
    "import matplotlib.pyplot as plt\n",
    "\n",
    "# Data setup.\n",
    "year = 2023\n",
    "data = pd.read_csv('games.csv')\n",
    "months = ['Jan', 'Feb', 'Mar', 'Apr', 'May', 'June', 'July', 'Aug', 'Sep', 'Oct','Nov', 'Dec']\n",
    "\n",
    "buyData = data[data['datePlayed'].notna()].copy()\n",
    "# Require month for montly related charts.\n",
    "buyData['datePlayed'] = pd.to_datetime(buyData['datePlayed'])\n",
    "buyData['monthPlayed'] = buyData['datePlayed'].dt.month\n",
    "\n",
    "# Drop data not relavent to games bought.\n",
    "buyData = buyData.drop(buyData[(buyData['datePlayed'].dt.year != year)].index)\n",
    "buyData = buyData.drop(columns=['dateBought','price'])"
   ]
  }
 ],
 "metadata": {
  "kernelspec": {
   "display_name": "testEnv",
   "language": "python",
   "name": "python3"
  },
  "language_info": {
   "codemirror_mode": {
    "name": "ipython",
    "version": 3
   },
   "file_extension": ".py",
   "mimetype": "text/x-python",
   "name": "python",
   "nbconvert_exporter": "python",
   "pygments_lexer": "ipython3",
   "version": "3.10.8"
  }
 },
 "nbformat": 4,
 "nbformat_minor": 2
}
