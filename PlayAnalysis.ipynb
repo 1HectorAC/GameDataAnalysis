{
 "cells": [
  {
   "cell_type": "markdown",
   "metadata": {},
   "source": [
    "## Play Analysis\n",
    "---\n",
    "An analysis of games played based on the selected year."
   ]
  },
  {
   "cell_type": "code",
   "execution_count": null,
   "metadata": {},
   "outputs": [],
   "source": [
    "import numpy as np\n",
    "import pandas as pd\n",
    "import matplotlib.pyplot as plt\n",
    "\n",
    "# Data setup.\n",
    "year = 2023\n",
    "data = pd.read_csv('games.csv')\n",
    "months = ['Jan', 'Feb', 'Mar', 'Apr', 'May', 'June', 'July', 'Aug', 'Sep', 'Oct','Nov', 'Dec']\n",
    "monthNumbers = [1,2,3,4,5,6,7,8,9,10,11,12]\n",
    "\n",
    "playData = data[data['datePlayed'].notna()].copy()\n",
    "# Require month for montly related charts.\n",
    "playData['datePlayed'] = pd.to_datetime(playData['datePlayed'])\n",
    "playData['monthPlayed'] = playData['datePlayed'].dt.month\n",
    "\n",
    "# Drop data not relavent to games bought.\n",
    "playData = playData.drop(playData[(playData['datePlayed'].dt.year != year)].index)\n",
    "playData = playData.drop(columns=['dateBought','price'])"
   ]
  },
  {
   "cell_type": "markdown",
   "metadata": {},
   "source": [
    "### Total Count\n",
    "---\n",
    "A bar graph of total games played by month."
   ]
  },
  {
   "cell_type": "code",
   "execution_count": null,
   "metadata": {},
   "outputs": [],
   "source": [
    "# Get total games by month.\n",
    "totalPlay = playData.value_counts('monthPlayed').reindex(monthNumbers, fill_value=0)\n",
    "totalPlay = pd.DataFrame({\"Game Totals\": totalPlay.values}, index=[months[i-1] for i in totalPlay.index])\n",
    "\n",
    "totalPlay.plot(kind='bar', title=f'Total Games Played by Month in {year}', ylabel='Games', xlabel='Months', legend=None)\n",
    "plt.show()"
   ]
  },
  {
   "cell_type": "markdown",
   "metadata": {},
   "source": [
    "### Borrowed\n",
    "---\n",
    "1. A pie chart of total games borrowed in the selected year.\n",
    "2. A bar graph of total games borrowed by month in the selected year."
   ]
  },
  {
   "cell_type": "code",
   "execution_count": null,
   "metadata": {},
   "outputs": [],
   "source": [
    "# Get Total games borrowed.\n",
    "totalBorrowed = playData.value_counts('borrowed').sort_index()\n",
    "\n",
    "totalBorrowed.plot(kind='pie', title=f'Total Borrowed in {year}', labels=['Not Borrowed',\"Borrowed\"], autopct='%1.1f%%')\n",
    "plt.show()\n",
    "\n",
    "# Get total games borrowed by year.\n",
    "borrowedByMonth = playData[playData['borrowed'] == True].value_counts('monthPlayed').reindex(monthNumbers, fill_value=0)\n",
    "borrowedByMonth = pd.DataFrame({\"Game Totals\": borrowedByMonth.values}, index=[months[i-1] for i in borrowedByMonth.index])\n",
    "\n",
    "borrowedByMonth.plot(kind='bar', title=f'Total Games Borrowed by Month in {year}', ylabel='Games', xlabel='Months', legend=None)\n",
    "plt.show()"
   ]
  }
 ],
 "metadata": {
  "kernelspec": {
   "display_name": "testEnv",
   "language": "python",
   "name": "python3"
  },
  "language_info": {
   "codemirror_mode": {
    "name": "ipython",
    "version": 3
   },
   "file_extension": ".py",
   "mimetype": "text/x-python",
   "name": "python",
   "nbconvert_exporter": "python",
   "pygments_lexer": "ipython3",
   "version": "3.10.8"
  }
 },
 "nbformat": 4,
 "nbformat_minor": 2
}
