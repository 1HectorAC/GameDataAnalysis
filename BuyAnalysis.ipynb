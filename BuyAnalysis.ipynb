{
 "cells": [
  {
   "cell_type": "markdown",
   "metadata": {},
   "source": [
    "## Buy Analysis\n",
    "---\n",
    "An analysis of the games bought based on a select year."
   ]
  },
  {
   "cell_type": "code",
   "execution_count": 2,
   "metadata": {},
   "outputs": [
    {
     "name": "stdout",
     "output_type": "stream",
     "text": [
      "   title dateBought  price  physical console  monthBought\n",
      "0   test 2023-10-02     30      True     PS4           10\n",
      "1  test2 2023-11-02     30      True     PS4           11\n"
     ]
    }
   ],
   "source": [
    "import numpy as np\n",
    "import pandas as pd\n",
    "import matplotlib.pyplot as plt\n",
    "\n",
    "# Data setup.\n",
    "year = 2023\n",
    "data = pd.read_csv('games.csv')\n",
    "months = ['Jan', 'Feb', 'Mar', 'Apr', 'May', 'June', 'July', 'Aug', 'Sep', 'Oct','Nov', 'Dec']\n",
    "\n",
    "buyData = data[data['dateBought'].notna()].copy()\n",
    "# Require month for montly related charts.\n",
    "buyData['dateBought'] = pd.to_datetime(buyData['dateBought'])\n",
    "buyData['monthBought'] = buyData['dateBought'].dt.month\n",
    "# Drop data not relavent to games bought.\n",
    "buyData = buyData.drop(buyData[(buyData['dateBought'].dt.year != year)].index)\n",
    "buyData = buyData.drop(columns=['datePlayed','borrowed', 'replayed'])\n",
    "\n",
    "print(buyData)"
   ]
  }
 ],
 "metadata": {
  "kernelspec": {
   "display_name": "testEnv",
   "language": "python",
   "name": "python3"
  },
  "language_info": {
   "codemirror_mode": {
    "name": "ipython",
    "version": 3
   },
   "file_extension": ".py",
   "mimetype": "text/x-python",
   "name": "python",
   "nbconvert_exporter": "python",
   "pygments_lexer": "ipython3",
   "version": "3.10.8"
  }
 },
 "nbformat": 4,
 "nbformat_minor": 2
}
