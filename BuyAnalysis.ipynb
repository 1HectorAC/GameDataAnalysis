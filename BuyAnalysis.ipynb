{
 "cells": [
  {
   "cell_type": "markdown",
   "metadata": {},
   "source": [
    "## Buy Analysis\n",
    "---\n",
    "An analysis of the games bought based on a select year."
   ]
  },
  {
   "cell_type": "code",
   "execution_count": null,
   "metadata": {},
   "outputs": [],
   "source": [
    "import numpy as np\n",
    "import pandas as pd\n",
    "import matplotlib.pyplot as plt\n",
    "\n",
    "# Data setup.\n",
    "year = 2023\n",
    "data = pd.read_csv('games.csv')\n",
    "months = ['Jan', 'Feb', 'Mar', 'Apr', 'May', 'June', 'July', 'Aug', 'Sep', 'Oct','Nov', 'Dec']\n",
    "\n",
    "buyData = data[data['dateBought'].notna()].copy()\n",
    "# Require month for montly related charts.\n",
    "buyData['dateBought'] = pd.to_datetime(buyData['dateBought'])\n",
    "buyData['monthBought'] = buyData['dateBought'].dt.month\n",
    "# Drop data not relavent to games bought.\n",
    "buyData = buyData.drop(buyData[(buyData['dateBought'].dt.year != year)].index)\n",
    "buyData = buyData.drop(columns=['datePlayed','borrowed', 'replayed'])\n",
    "\n",
    "print(buyData)"
   ]
  },
  {
   "cell_type": "code",
   "execution_count": null,
   "metadata": {},
   "outputs": [],
   "source": [
    "# Get count by month list, also sort by month number value. \n",
    "totalBuy = buyData['monthBought'].value_counts().sort_index()\n",
    "\n",
    "# Setup new dataframe that replaces month number value with month name.\n",
    "totalBuy = pd.DataFrame({\"Game Totals\": totalBuy.values}, index=[months[i-1] for i in totalBuy.index])\n",
    "\n",
    "totalBuy.plot(kind=\"bar\", title=f\"Total Bought by Month in {year}\", ylabel=\"Games\", xlabel=\"Month\", legend=None)\n",
    "\n",
    "plt.show()"
   ]
  }
 ],
 "metadata": {
  "kernelspec": {
   "display_name": "testEnv",
   "language": "python",
   "name": "python3"
  },
  "language_info": {
   "codemirror_mode": {
    "name": "ipython",
    "version": 3
   },
   "file_extension": ".py",
   "mimetype": "text/x-python",
   "name": "python",
   "nbconvert_exporter": "python",
   "pygments_lexer": "ipython3",
   "version": "3.10.8"
  }
 },
 "nbformat": 4,
 "nbformat_minor": 2
}
