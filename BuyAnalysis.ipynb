{
 "cells": [
  {
   "cell_type": "markdown",
   "metadata": {},
   "source": [
    "## Buy Analysis\n",
    "---\n",
    "An analysis of the games bought based on a select year."
   ]
  },
  {
   "cell_type": "code",
   "execution_count": null,
   "metadata": {},
   "outputs": [],
   "source": [
    "import numpy as np\n",
    "import pandas as pd\n",
    "import matplotlib.pyplot as plt\n",
    "\n",
    "# Data setup.\n",
    "year = 2023\n",
    "data = pd.read_csv('games.csv')\n",
    "months = ['Jan', 'Feb', 'Mar', 'Apr', 'May', 'June', 'July', 'Aug', 'Sep', 'Oct','Nov', 'Dec']\n",
    "\n",
    "buyData = data[data['dateBought'].notna()].copy()\n",
    "# Require month for montly related charts.\n",
    "buyData['dateBought'] = pd.to_datetime(buyData['dateBought'])\n",
    "buyData['monthBought'] = buyData['dateBought'].dt.month\n",
    "\n",
    "# Drop data not relavent to games bought.\n",
    "buyData = buyData.drop(buyData[(buyData['dateBought'].dt.year != year)].index)\n",
    "buyData = buyData.drop(columns=['datePlayed','borrowed', 'replayed'])"
   ]
  },
  {
   "cell_type": "markdown",
   "metadata": {},
   "source": [
    "### Total Games Bought - Bar Graph\n",
    "A bar graph with total number of games bought in a given month."
   ]
  },
  {
   "cell_type": "code",
   "execution_count": null,
   "metadata": {},
   "outputs": [],
   "source": [
    "# Get count by month list, also sort by month number value. \n",
    "totalBuy = buyData['monthBought'].value_counts().sort_index()\n",
    "\n",
    "# Make new dataframe with month value changed to string.\n",
    "totalBuy = pd.DataFrame({\"Game Totals\": totalBuy.values}, index=[months[i-1] for i in totalBuy.index])\n",
    "\n",
    "totalBuy.plot(kind=\"bar\", title=f\"Total Bought by Month in {year}\", ylabel=\"Games\", xlabel=\"Month\", legend=None)\n",
    "plt.show()"
   ]
  },
  {
   "cell_type": "markdown",
   "metadata": {},
   "source": [
    "### Total Money Spent - Bar Graph\n",
    "A bar graph with total money spent on games in a given month."
   ]
  },
  {
   "cell_type": "code",
   "execution_count": null,
   "metadata": {},
   "outputs": [],
   "source": [
    "# Get sums of price by month list.\n",
    "costTotal = buyData.groupby('monthBought')['price'].sum()\n",
    "\n",
    "# Make new dataframe with month value changed to string.\n",
    "costTotal = pd.DataFrame({\"Cost Totals\": costTotal.values}, index =[months[i-1] for i in costTotal.index])\n",
    "\n",
    "costTotal.plot(kind=\"bar\", title=f\"Cost Totals by Month in {year}\", ylabel=\"Dollars\", xlabel=\"Month\", legend=None)\n",
    "plt.show()"
   ]
  },
  {
   "cell_type": "markdown",
   "metadata": {},
   "source": [
    "### Percentage of Games bought by Console - Pie Chart\n",
    "A pie chart with percentages of games bought by console type."
   ]
  },
  {
   "cell_type": "code",
   "execution_count": null,
   "metadata": {},
   "outputs": [],
   "source": [
    "# Get count of games based on console.\n",
    "systemTotal = buyData['console'].value_counts()\n",
    "\n",
    "# Added label set to nothing to remove title on left side that is auto set.\n",
    "# Autopct used to show show percentages to one decimal place.\n",
    "systemTotal.plot(kind=\"pie\", title=f\"Percentage of Games Bought by Console in {year}\", label=\"\",autopct=\"%1.1f%%\")\n",
    "\n",
    "plt.show()"
   ]
  },
  {
   "cell_type": "markdown",
   "metadata": {},
   "source": [
    "### Price Ranges of Games Bought - Histogram\n",
    "A histogram of games that are placed in price range bins."
   ]
  },
  {
   "cell_type": "code",
   "execution_count": null,
   "metadata": {},
   "outputs": [],
   "source": [
    "# Get list of game prices.\n",
    "gamePrices = buyData['price']\n",
    "\n",
    "gamePrices.plot(kind=\"hist\", title=f\"Price Ranges of Game Bought in {year}\")\n",
    "# There was an issue setting labels in plot function so they were seperated.\n",
    "plt.xlabel(\"Dollars\")\n",
    "plt.ylabel(\"Games\")\n",
    "plt.show()"
   ]
  }
 ],
 "metadata": {
  "kernelspec": {
   "display_name": "testEnv",
   "language": "python",
   "name": "python3"
  },
  "language_info": {
   "codemirror_mode": {
    "name": "ipython",
    "version": 3
   },
   "file_extension": ".py",
   "mimetype": "text/x-python",
   "name": "python",
   "nbconvert_exporter": "python",
   "pygments_lexer": "ipython3",
   "version": "3.10.8"
  }
 },
 "nbformat": 4,
 "nbformat_minor": 2
}
