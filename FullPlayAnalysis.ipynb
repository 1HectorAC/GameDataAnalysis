{
 "cells": [
  {
   "cell_type": "code",
   "execution_count": null,
   "metadata": {},
   "outputs": [],
   "source": [
    "import numpy as np\n",
    "import pandas as pd\n",
    "import matplotlib.pyplot as plt\n",
    "\n",
    "# Data setup.\n",
    "data = pd.read_csv('games.csv')\n",
    "buyData = data[data['datePlayed'].notna()].copy()\n",
    "buyData['datePlayed'] = pd.to_datetime(buyData['datePlayed'])\n",
    "buyData['year'] = buyData['datePlayed'].dt.year\n",
    "\n",
    "# Drop data not relavent to games played.\n",
    "buyData = buyData.drop(columns=['dateBought', 'price'])\n",
    "print(buyData)"
   ]
  }
 ],
 "metadata": {
  "kernelspec": {
   "display_name": "testEnv",
   "language": "python",
   "name": "python3"
  },
  "language_info": {
   "codemirror_mode": {
    "name": "ipython",
    "version": 3
   },
   "file_extension": ".py",
   "mimetype": "text/x-python",
   "name": "python",
   "nbconvert_exporter": "python",
   "pygments_lexer": "ipython3",
   "version": "3.10.8"
  }
 },
 "nbformat": 4,
 "nbformat_minor": 2
}
