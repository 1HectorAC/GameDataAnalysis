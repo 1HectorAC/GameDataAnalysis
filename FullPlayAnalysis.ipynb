{
 "cells": [
  {
   "cell_type": "code",
   "execution_count": null,
   "metadata": {},
   "outputs": [],
   "source": [
    "import numpy as np\n",
    "import pandas as pd\n",
    "import matplotlib.pyplot as plt\n",
    "\n",
    "# Data setup.\n",
    "data = pd.read_csv('games.csv')\n",
    "playData = data[data['datePlayed'].notna()].copy()\n",
    "playData['datePlayed'] = pd.to_datetime(playData['datePlayed'])\n",
    "playData['year'] = playData['datePlayed'].dt.year\n",
    "\n",
    "# Drop data not relavent to games played.\n",
    "playData = playData.drop(columns=['dateBought', 'price'])"
   ]
  },
  {
   "cell_type": "markdown",
   "metadata": {},
   "source": [
    "### Total Games Played - Bar Graph\n",
    "A bar graph of total games played by year."
   ]
  },
  {
   "cell_type": "code",
   "execution_count": null,
   "metadata": {},
   "outputs": [],
   "source": [
    "# Get count by year.\n",
    "totalBuy = playData.value_counts('year').sort_index()\n",
    "\n",
    "totalBuy.plot(kind='bar', title='Total Games Played By Year', xlabel='Year', ylabel='Games')\n",
    "plt.show()"
   ]
  },
  {
   "cell_type": "markdown",
   "metadata": {},
   "source": [
    "### Total Games by Year & Console - Bar Graph\n",
    "A bar graph with total games played in a given year from a given console."
   ]
  },
  {
   "cell_type": "code",
   "execution_count": null,
   "metadata": {},
   "outputs": [],
   "source": [
    "# Get list ordered by year and each year with console count.\n",
    "consoleYear = playData.groupby('year')['console'].value_counts()\n",
    "\n",
    "# Setup list of colors for every console. Change color for every other year.\n",
    "colors = []\n",
    "for x in consoleYear.index:\n",
    "    colors.append('#111111' if x[0] % 2 == 0 else '#811111')\n",
    "\n",
    "consoleYear.plot(kind='bar', color=colors, title='Games Played by Year & Console', ylabel='Games')\n",
    "plt.show()"
   ]
  },
  {
   "cell_type": "code",
   "execution_count": null,
   "metadata": {},
   "outputs": [],
   "source": [
    "# Get total games borrowed by year\n",
    "borrowedByYear = playData[playData['borrowed'] == True].value_counts('year').sort_index()\n",
    "\n",
    "borrowedByYear.plot(kind='bar', title='Total Game Borrowed by Year', ylabel='Games')\n",
    "plt.show()"
   ]
  }
 ],
 "metadata": {
  "kernelspec": {
   "display_name": "testEnv",
   "language": "python",
   "name": "python3"
  },
  "language_info": {
   "codemirror_mode": {
    "name": "ipython",
    "version": 3
   },
   "file_extension": ".py",
   "mimetype": "text/x-python",
   "name": "python",
   "nbconvert_exporter": "python",
   "pygments_lexer": "ipython3",
   "version": "3.10.8"
  }
 },
 "nbformat": 4,
 "nbformat_minor": 2
}
