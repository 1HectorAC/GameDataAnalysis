{
 "cells": [
  {
   "cell_type": "markdown",
   "metadata": {},
   "source": [
    "## Full Play Analysis\n",
    "---\n",
    "An analysis of all games played."
   ]
  },
  {
   "cell_type": "code",
   "execution_count": null,
   "metadata": {},
   "outputs": [],
   "source": [
    "import numpy as np\n",
    "import pandas as pd\n",
    "import matplotlib.pyplot as plt\n",
    "\n",
    "# Data setup.\n",
    "data = pd.read_csv('games.csv')\n",
    "playData = data[data['datePlayed'].notna()].copy()\n",
    "playData['datePlayed'] = pd.to_datetime(playData['datePlayed'])\n",
    "playData['year'] = playData['datePlayed'].dt.year\n",
    "\n",
    "# Drop data not relavent to games played.\n",
    "playData = playData.drop(columns=['dateBought', 'price'])\n",
    "\n",
    "# Create year range. This is used to account for empty years in charts.\n",
    "max_year = playData.year.max()\n",
    "min_year = playData.year.min()\n",
    "yearRange = list(range(min_year,max_year + 1))"
   ]
  },
  {
   "cell_type": "markdown",
   "metadata": {},
   "source": [
    "### Total Count\n",
    "A bar graph of total games played by year."
   ]
  },
  {
   "cell_type": "code",
   "execution_count": null,
   "metadata": {},
   "outputs": [],
   "source": [
    "# Get count by year.\n",
    "totalBuy = playData.value_counts('year').reindex(yearRange,fill_value=0)\n",
    "\n",
    "totalBuy.plot(kind='bar', title='Total Games Played by Year', xlabel='Year', ylabel='Games')\n",
    "plt.show()"
   ]
  },
  {
   "cell_type": "markdown",
   "metadata": {},
   "source": [
    "### Borrowed\n",
    "1. A pie chart of total games borrowed.\n",
    "2. A bar graph of total games borrowed by year."
   ]
  },
  {
   "cell_type": "code",
   "execution_count": null,
   "metadata": {},
   "outputs": [],
   "source": [
    "# Get Total games borrowed.\n",
    "totalBorrowed = playData.value_counts('borrowed').sort_index()\n",
    "\n",
    "totalBorrowed.plot(kind='pie', title=f'Total Borrowed from {yearRange[0]} to {yearRange[-1]}', labels=['Not Borrowed',\"Borrowed\"], autopct='%1.1f%%')\n",
    "plt.show()\n",
    "\n",
    "# Get total games borrowed by year.\n",
    "borrowedByYear = playData[playData['borrowed'] == True].value_counts('year').sort_index()\n",
    "\n",
    "borrowedByYear.plot(kind='bar', title='Total Game Borrowed by Year', ylabel='Games')\n",
    "plt.show()"
   ]
  },
  {
   "cell_type": "markdown",
   "metadata": {},
   "source": [
    "### Replayed\n",
    "1. A pie chart of total games replayed.\n",
    "2. A bar graph of total games replayed by year."
   ]
  },
  {
   "cell_type": "code",
   "execution_count": null,
   "metadata": {},
   "outputs": [],
   "source": [
    "# Get total games  replayed.\n",
    "totalReplayed = playData.value_counts('replayed').sort_index()\n",
    "\n",
    "totalReplayed.plot(kind='pie', title=f'Total Replayed from {yearRange[0]} to {yearRange[-1]}', labels=['Not Replayed','Replayed'], autopct='%1.1f%%')\n",
    "plt.show()\n",
    "\n",
    "# Get total games replayed by Year\n",
    "replayedByYear = playData[playData['replayed'] == True].value_counts('year').sort_index()\n",
    "\n",
    "replayedByYear.plot(kind='bar', title=\"Total Games Replayed by Year\", ylabel=\"Games\")\n",
    "plt.show()"
   ]
  },
  {
   "cell_type": "markdown",
   "metadata": {},
   "source": [
    "### Console Counts\n",
    "1. A pie chart of total games played by console.\n",
    "2. A bar graph of total console games played for each console by year."
   ]
  },
  {
   "cell_type": "code",
   "execution_count": null,
   "metadata": {},
   "outputs": [],
   "source": [
    "# Get games count by console.\n",
    "totalByConsole = playData.value_counts('console')\n",
    "\n",
    "totalByConsole.plot(kind='pie', title=f\"Games Played by Console from {yearRange[0]} to {yearRange[-1]}\", autopct=\"%1.1f%%\")\n",
    "plt.show()\n",
    "\n",
    "# Get console totals for each console by year.\n",
    "consoles = totalByConsole.index\n",
    "consoleTotalsByYear = pd.DataFrame({}, index=yearRange)\n",
    "for c in consoles:\n",
    "    consoleByYear = playData[playData['console'] == c].groupby('year')['console'].count().reindex(yearRange, fill_value=0)\n",
    "    consoleTotalsByYear[c] = consoleByYear.values\n",
    "\n",
    "consoleTotalsByYear.plot(kind='bar', title='Total Console Games Played by Year', ylabel='Games', xlabel='Year')\n",
    "plt.show()"
   ]
  },
  {
   "cell_type": "markdown",
   "metadata": {},
   "source": [
    "### Physical/Digital\n",
    "1. A pie chart of total physical/digital games played.\n",
    "2. A bar graph with the total physical and digital games played by year."
   ]
  },
  {
   "cell_type": "code",
   "execution_count": null,
   "metadata": {},
   "outputs": [],
   "source": [
    "# Get Physical/Digital Total Count.\n",
    "totalByPhysicalDigital = playData.value_counts('physical').sort_index()\n",
    "totalByPhysicalDigital.plot(kind='pie', title=f'Physical/Digital Games Played from {yearRange[0]} to {yearRange[-1]}', labels=['Digital','Physical'], autopct=\"%1.1f%%\")\n",
    "plt.show()\n",
    "\n",
    "# Get game count by physical/digital.\n",
    "physicalCount = playData[playData.physical == True].groupby('year')['physical'].count().reindex(yearRange, fill_value=0)\n",
    "digitalCount = playData[playData.physical == False].groupby('year')['physical'].count().reindex(yearRange, fill_value=0)\n",
    "physicalAndDigital = pd.DataFrame({\"Physical\": physicalCount.values, \"Digital\":digitalCount.values}, index=yearRange)\n",
    "\n",
    "physicalAndDigital.plot(kind=\"bar\", title=\"Total Physical/Digital Games Played Count by Year\", ylabel='Games', xlabel='Year')\n",
    "plt.show()"
   ]
  }
 ],
 "metadata": {
  "kernelspec": {
   "display_name": "testEnv",
   "language": "python",
   "name": "python3"
  },
  "language_info": {
   "codemirror_mode": {
    "name": "ipython",
    "version": 3
   },
   "file_extension": ".py",
   "mimetype": "text/x-python",
   "name": "python",
   "nbconvert_exporter": "python",
   "pygments_lexer": "ipython3",
   "version": "3.10.8"
  }
 },
 "nbformat": 4,
 "nbformat_minor": 2
}
