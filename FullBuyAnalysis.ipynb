{
 "cells": [
  {
   "cell_type": "markdown",
   "metadata": {},
   "source": [
    "## Full Buy Analysis\n",
    "---\n",
    "An analysis of all games bought."
   ]
  },
  {
   "cell_type": "code",
   "execution_count": null,
   "metadata": {},
   "outputs": [],
   "source": [
    "import numpy as np\n",
    "import pandas as pd\n",
    "import matplotlib.pyplot as plt\n",
    "\n",
    "data = pd.read_csv('games.csv')\n",
    "\n",
    "buyData = data[data['dateBought'].notna()].copy()\n",
    "buyData['dateBought'] = pd.to_datetime(buyData['dateBought'])\n",
    "buyData['year'] = buyData['dateBought'].dt.year\n",
    "\n",
    "buyData = buyData.drop(columns=['datePlayed', 'borrowed', 'replayed'])\n",
    "print(buyData)"
   ]
  }
 ],
 "metadata": {
  "kernelspec": {
   "display_name": "testEnv",
   "language": "python",
   "name": "python3"
  },
  "language_info": {
   "codemirror_mode": {
    "name": "ipython",
    "version": 3
   },
   "file_extension": ".py",
   "mimetype": "text/x-python",
   "name": "python",
   "nbconvert_exporter": "python",
   "pygments_lexer": "ipython3",
   "version": "3.10.8"
  }
 },
 "nbformat": 4,
 "nbformat_minor": 2
}
