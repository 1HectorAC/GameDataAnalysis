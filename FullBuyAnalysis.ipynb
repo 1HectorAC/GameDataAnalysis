{
 "cells": [
  {
   "cell_type": "markdown",
   "metadata": {},
   "source": [
    "## Full Buy Analysis\n",
    "---\n",
    "An analysis of all games bought."
   ]
  },
  {
   "cell_type": "code",
   "execution_count": null,
   "metadata": {},
   "outputs": [],
   "source": [
    "import numpy as np\n",
    "import pandas as pd\n",
    "import matplotlib.pyplot as plt\n",
    "\n",
    "# Data setup.\n",
    "data = pd.read_csv('games.csv')\n",
    "buyData = data[data['dateBought'].notna()].copy()\n",
    "buyData['dateBought'] = pd.to_datetime(buyData['dateBought'])\n",
    "buyData['year'] = buyData['dateBought'].dt.year\n",
    "\n",
    "# Drop data not relavent to games bought.\n",
    "buyData = buyData.drop(columns=['datePlayed', 'borrowed', 'replayed'])\n",
    "\n",
    "# Create year range. This is used to account for empty years in charts.\n",
    "max_year = buyData.year.max()\n",
    "min_year = buyData.year.min()\n",
    "yearRange = list(range(min_year,max_year + 1))"
   ]
  },
  {
   "cell_type": "markdown",
   "metadata": {},
   "source": [
    "### Total Games Bought - Bar Graph\n",
    "A bar graph of total games bought based on the year."
   ]
  },
  {
   "cell_type": "code",
   "execution_count": null,
   "metadata": {},
   "outputs": [],
   "source": [
    "# Get count by year.\n",
    "totalBuy = buyData.value_counts('year').reindex(yearRange, fill_value=0)\n",
    "\n",
    "totalBuy.plot(kind='bar', title='Total Games Bought By Year', xlabel='Year', ylabel='Games')\n",
    "plt.show()"
   ]
  },
  {
   "cell_type": "markdown",
   "metadata": {},
   "source": [
    "### Total Money Spent - Bar Graph\n",
    "A bar graph of total money spent by year."
   ]
  },
  {
   "cell_type": "code",
   "execution_count": null,
   "metadata": {},
   "outputs": [],
   "source": [
    "# Get sum of money by year.\n",
    "totalMoney = buyData.groupby('year')['price'].sum().reindex(yearRange,fill_value=0)\n",
    "\n",
    "totalMoney.plot(kind='bar', title=f'Total Cost By Year', xlabel='Year', ylabel='Money')\n",
    "plt.show()"
   ]
  },
  {
   "cell_type": "markdown",
   "metadata": {},
   "source": [
    "### Average Money Spent per Game - Bar Graph\n",
    "A bar graph of average money/game spent by year."
   ]
  },
  {
   "cell_type": "code",
   "execution_count": null,
   "metadata": {},
   "outputs": [],
   "source": [
    "# Setup count and cost to get average later.\n",
    "totalCost = buyData.groupby('year')['price'].sum().reindex(yearRange,fill_value=0)\n",
    "totalCount = buyData.value_counts('year').reindex(yearRange,fill_value=0)\n",
    "\n",
    "# Setup average cost per game spent based on year.\n",
    "averageData = pd.DataFrame({'cost':totalCost.values, 'amount' : totalCount.values}, index = yearRange)\n",
    "averageData['average'] = averageData.cost / averageData.amount\n",
    "averageData = averageData.drop(columns=['cost','amount'])\n",
    "\n",
    "averageData.plot(kind='bar', title=f'Average Money/Game By Year', xlabel='Year', ylabel='Money')\n",
    "plt.show()\n"
   ]
  },
  {
   "cell_type": "markdown",
   "metadata": {},
   "source": [
    "### Console Counts - Bar Charts\n",
    "1. A bar graph of total games bought by console.\n",
    "2. A bar graph for each console counting the total bought each year."
   ]
  },
  {
   "cell_type": "code",
   "execution_count": null,
   "metadata": {},
   "outputs": [],
   "source": [
    "# Get games count by console.\n",
    "totalByConsole = buyData.value_counts('console')\n",
    "\n",
    "totalByConsole.plot(kind='bar', title=f\"Total Games Bought by Console from {yearRange[0]} to {yearRange[-1]}\", ylabel='Games')\n",
    "plt.show()\n",
    "\n",
    "# Make graph for each console. Total games of a console by year.\n",
    "consoles = totalByConsole.index\n",
    "for c in consoles:\n",
    "    ConsoleByYear = buyData[buyData['console'] == c].groupby('year')['console'].count().reindex(yearRange, fill_value=0)\n",
    "    ConsoleByYear.plot(kind='bar', title=f\"Total {c} Games Bought By Year\", ylabel='Games', xlabel='year')\n",
    "    plt.show()\n"
   ]
  },
  {
   "cell_type": "markdown",
   "metadata": {},
   "source": [
    "### Total Physical/Digital Game Count - Bar Chart\n",
    "A bar graph with the total physical and digital games by year."
   ]
  },
  {
   "cell_type": "code",
   "execution_count": null,
   "metadata": {},
   "outputs": [],
   "source": [
    "# Get game count by physical/digital.\n",
    "physicalCount = buyData[buyData.physical == True].groupby('year')['physical'].count().reindex(yearRange, fill_value=0)\n",
    "digitalCount = buyData[buyData.physical == False].groupby('year')['physical'].count().reindex(yearRange, fill_value=0)\n",
    "physicalAndDigital = pd.DataFrame({\"Physical\": physicalCount.values, \"Digital\":digitalCount.values}, index=yearRange)\n",
    "\n",
    "physicalAndDigital.plot(kind=\"bar\", title=\"Total Physical/Digital Game Count by Year\", ylabel='Games', xlabel='Year')\n",
    "plt.show()"
   ]
  }
 ],
 "metadata": {
  "kernelspec": {
   "display_name": "testEnv",
   "language": "python",
   "name": "python3"
  },
  "language_info": {
   "codemirror_mode": {
    "name": "ipython",
    "version": 3
   },
   "file_extension": ".py",
   "mimetype": "text/x-python",
   "name": "python",
   "nbconvert_exporter": "python",
   "pygments_lexer": "ipython3",
   "version": "3.10.8"
  }
 },
 "nbformat": 4,
 "nbformat_minor": 2
}
